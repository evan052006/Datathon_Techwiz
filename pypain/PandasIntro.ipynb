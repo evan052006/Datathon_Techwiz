{
 "cells": [
  {
   "cell_type": "markdown",
   "id": "6eef5d4f-b1fd-4153-b18b-d09e0438df74",
   "metadata": {},
   "source": [
    "main source : https://pandas.pydata.org/docs/\n",
    "\n",
    "Pandas is a data science library, (note \"data science\" not actual AI as a whole). So it focuses mainly on boring and basic things.\n",
    "\n",
    "Main gimmick of pandas is storing everything into either **Series** or **Dataframes**"
   ]
  },
  {
   "cell_type": "code",
   "execution_count": 2,
   "id": "e8f63c9b-b755-47fc-873c-3a59d618cc03",
   "metadata": {},
   "outputs": [],
   "source": [
    "import pandas as pd # this imports the module (like a class) then shorthands it to pd, less pain on the wrist to type."
   ]
  },
  {
   "cell_type": "markdown",
   "id": "63ab8571-f4c5-4f14-9625-30497898bc1c",
   "metadata": {},
   "source": [
    "https://pandas.pydata.org/docs/reference/api/pandas.Series.html\n",
    "\n",
    "First we got Series, it sounds cool but is practically just an array"
   ]
  },
  {
   "cell_type": "code",
   "execution_count": 6,
   "id": "4df302a9-890e-496b-943d-a0b81962065a",
   "metadata": {},
   "outputs": [
    {
     "data": {
      "text/plain": [
       "0      1\n",
       "1      2\n",
       "2     yo\n",
       "3    4.6\n",
       "dtype: object"
      ]
     },
     "execution_count": 6,
     "metadata": {},
     "output_type": "execute_result"
    }
   ],
   "source": [
    "pd.Series([1, 2, \"yo\", 4.6]) # notice the dtype (data type) is an object, this is because we mixed types"
   ]
  },
  {
   "cell_type": "code",
   "execution_count": 8,
   "id": "c305809f-083f-46c1-bfda-1e1b60d0f7f6",
   "metadata": {},
   "outputs": [
    {
     "data": {
      "text/plain": [
       "0    1\n",
       "1    2\n",
       "2    3\n",
       "3    4\n",
       "dtype: int64"
      ]
     },
     "execution_count": 8,
     "metadata": {},
     "output_type": "execute_result"
    }
   ],
   "source": [
    "pd.Series([1, 2, 3, 4]) # pandas autoinfer what datatype we need"
   ]
  },
  {
   "cell_type": "markdown",
   "id": "7de3e407-af49-4f93-8061-f3a18db1f68a",
   "metadata": {},
   "source": [
    "changing __our_data_type__ to int would break, because you cant represent strings as integers (unless you get really deep into low level, which we dont need / care)"
   ]
  },
  {
   "cell_type": "code",
   "execution_count": 14,
   "id": "777abb56-a2cd-4947-a47c-5d69e05e6a15",
   "metadata": {},
   "outputs": [
    {
     "data": {
      "text/plain": [
       "0    i am illegal\n",
       "dtype: object"
      ]
     },
     "execution_count": 14,
     "metadata": {},
     "output_type": "execute_result"
    }
   ],
   "source": [
    "our_data_type = str\n",
    "pd.Series([\"i am illegal\"], dtype=our_data_type) # pandas autoinfer what datatype we need"
   ]
  },
  {
   "cell_type": "markdown",
   "id": "59996906-c7ca-419c-8be7-6ac2bba9da9a",
   "metadata": {},
   "source": [
    "Series can be input any iterables, so python tuples, lists, and dictionaries work 0 problems (unordered sets dont work tho).\n",
    "\n",
    "This fact is important, later on we can input numpy arrays inside"
   ]
  },
  {
   "cell_type": "code",
   "execution_count": 44,
   "id": "e4df2a86-76ec-4b23-b7d6-e1cadcfc5b9f",
   "metadata": {},
   "outputs": [
    {
     "name": "stdout",
     "output_type": "stream",
     "text": [
      "Series from Lists\n",
      "0    1\n",
      "1    2\n",
      "2    3\n",
      "3    4\n",
      "Name: cool series, dtype: int64\n",
      "\n",
      "Series from Tuple\n",
      "0    1\n",
      "1    2\n",
      "2    3\n",
      "3    4\n",
      "dtype: int64\n",
      "\n",
      "Series from Dictionary, using keys as index\n",
      "1    1\n",
      "3    2\n",
      "2    3\n",
      "4    4\n",
      "dtype: int64\n",
      "\n",
      "Series from Dictionary, ignoring keys but using index parameter (the order shown from print seems random tho)\n",
      "4    4\n",
      "3    2\n",
      "2    3\n",
      "1    1\n",
      "dtype: int64\n",
      "\n"
     ]
    }
   ],
   "source": [
    "print(\"Series from Lists\")\n",
    "print(pd.Series([1, 2, 3, 4], name=\"cool series\")) # Cool name that affects stuff\n",
    "print()\n",
    "print(\"Series from Tuple\")\n",
    "print(pd.Series((1, 2, 3, 4)))\n",
    "print()\n",
    "print(\"Series from Dictionary, using keys as index\")\n",
    "print(pd.Series({1:1, 3:2, 2:3, 4:4})) # when we dont provide index to the Series constructor, they auto use the dictionary keys\n",
    "print()\n",
    "print(\"Series from Dictionary, ignoring keys but using index parameter (the order shown from print seems random tho)\")\n",
    "print(pd.Series({1:1, 3:2, 2:3, 4:4}, index=(4, 3, 2, 1)))\n",
    "print()"
   ]
  },
  {
   "cell_type": "markdown",
   "id": "903d6903-9378-4c14-8085-5ae104a826fd",
   "metadata": {},
   "source": [
    "https://pandas.pydata.org/docs/reference/api/pandas.DataFrame.html\n",
    "\n",
    "Enterring tabular data, we can now represent data with table / higher dimensional objects. Dataframes are what we use 99% of the time"
   ]
  },
  {
   "cell_type": "code",
   "execution_count": 46,
   "id": "237b9554-408c-4d96-b17a-cc21bcee1a8d",
   "metadata": {},
   "outputs": [
    {
     "data": {
      "text/html": [
       "<div>\n",
       "<style scoped>\n",
       "    .dataframe tbody tr th:only-of-type {\n",
       "        vertical-align: middle;\n",
       "    }\n",
       "\n",
       "    .dataframe tbody tr th {\n",
       "        vertical-align: top;\n",
       "    }\n",
       "\n",
       "    .dataframe thead th {\n",
       "        text-align: right;\n",
       "    }\n",
       "</style>\n",
       "<table border=\"1\" class=\"dataframe\">\n",
       "  <thead>\n",
       "    <tr style=\"text-align: right;\">\n",
       "      <th></th>\n",
       "      <th>col1</th>\n",
       "      <th>col2</th>\n",
       "      <th>col3</th>\n",
       "    </tr>\n",
       "  </thead>\n",
       "  <tbody>\n",
       "    <tr>\n",
       "      <th>0</th>\n",
       "      <td>1</td>\n",
       "      <td>4</td>\n",
       "      <td>7</td>\n",
       "    </tr>\n",
       "    <tr>\n",
       "      <th>1</th>\n",
       "      <td>2</td>\n",
       "      <td>5</td>\n",
       "      <td>8</td>\n",
       "    </tr>\n",
       "    <tr>\n",
       "      <th>2</th>\n",
       "      <td>3</td>\n",
       "      <td>6</td>\n",
       "      <td>9</td>\n",
       "    </tr>\n",
       "  </tbody>\n",
       "</table>\n",
       "</div>"
      ],
      "text/plain": [
       "   col1  col2  col3\n",
       "0     1     4     7\n",
       "1     2     5     8\n",
       "2     3     6     9"
      ]
     },
     "execution_count": 46,
     "metadata": {},
     "output_type": "execute_result"
    }
   ],
   "source": [
    "data = {'col1' : [1, 2, 3], 'col2' : [4, 5, 6], 'col3' : [7, 8, 9]} # keys are column names, values are iterables\n",
    "pd.DataFrame(data)"
   ]
  },
  {
   "cell_type": "code",
   "execution_count": 50,
   "id": "c7486d8e-93f7-4a1d-86b1-6477293f5a7a",
   "metadata": {},
   "outputs": [
    {
     "data": {
      "text/html": [
       "<div>\n",
       "<style scoped>\n",
       "    .dataframe tbody tr th:only-of-type {\n",
       "        vertical-align: middle;\n",
       "    }\n",
       "\n",
       "    .dataframe tbody tr th {\n",
       "        vertical-align: top;\n",
       "    }\n",
       "\n",
       "    .dataframe thead th {\n",
       "        text-align: right;\n",
       "    }\n",
       "</style>\n",
       "<table border=\"1\" class=\"dataframe\">\n",
       "  <thead>\n",
       "    <tr style=\"text-align: right;\">\n",
       "      <th></th>\n",
       "      <th>col1</th>\n",
       "      <th>col3</th>\n",
       "      <th>col2</th>\n",
       "    </tr>\n",
       "  </thead>\n",
       "  <tbody>\n",
       "    <tr>\n",
       "      <th>0</th>\n",
       "      <td>1</td>\n",
       "      <td>2</td>\n",
       "      <td>3</td>\n",
       "    </tr>\n",
       "    <tr>\n",
       "      <th>1</th>\n",
       "      <td>4</td>\n",
       "      <td>5</td>\n",
       "      <td>6</td>\n",
       "    </tr>\n",
       "    <tr>\n",
       "      <th>2</th>\n",
       "      <td>7</td>\n",
       "      <td>8</td>\n",
       "      <td>9</td>\n",
       "    </tr>\n",
       "  </tbody>\n",
       "</table>\n",
       "</div>"
      ],
      "text/plain": [
       "   col1  col3  col2\n",
       "0     1     2     3\n",
       "1     4     5     6\n",
       "2     7     8     9"
      ]
     },
     "execution_count": 50,
     "metadata": {},
     "output_type": "execute_result"
    }
   ],
   "source": [
    "data = [[1, 2, 3], [4, 5, 6], [7, 8, 9]] # We can also define columns at constructor\n",
    "pd.DataFrame(data, columns=[\"col1\", \"col3\", \"col2\"])"
   ]
  },
  {
   "cell_type": "code",
   "execution_count": 54,
   "id": "6c27b7c6-82b3-453d-a4f3-b1715964ad89",
   "metadata": {},
   "outputs": [
    {
     "name": "stdout",
     "output_type": "stream",
     "text": [
      "   col1  col3  col2  cool series\n",
      "0   1.0   2.0   3.0          NaN\n",
      "1   4.0   5.0   6.0          NaN\n",
      "2   7.0   8.0   9.0          NaN\n",
      "0   NaN   NaN   NaN          1.0\n",
      "1   NaN   NaN   NaN          2.0\n",
      "2   NaN   NaN   NaN          3.0\n",
      "3   NaN   NaN   NaN          4.0\n",
      "   col1  col3  col2  cool series\n",
      "0   1.0   2.0   3.0            1\n",
      "1   4.0   5.0   6.0            2\n",
      "2   7.0   8.0   9.0            3\n",
      "3   NaN   NaN   NaN            4\n"
     ]
    }
   ],
   "source": [
    "data = [[1, 2, 3], [4, 5, 6], [7, 8, 9]] # We can also define columns at constructor\n",
    "dataframe = pd.DataFrame(data, columns=[\"col1\", \"col3\", \"col2\"])\n",
    "series = pd.Series([1, 2, 3, 4], name=\"cool series\")\n",
    "# Axis refers to direction  of the dimension (kinda like xyz axis) but in this case, axis 0 is the row direction\n",
    "print(pd.concat([dataframe, series], axis=0))\n",
    "# Axis 1 is the column direction, just what we need\n",
    "print(pd.concat([dataframe, series], axis=1))"
   ]
  },
  {
   "cell_type": "code",
   "execution_count": 58,
   "id": "67495c97-3728-4a04-9f1e-3c35a21338f4",
   "metadata": {},
   "outputs": [
    {
     "data": {
      "text/plain": [
       "0    2\n",
       "1    5\n",
       "2    8\n",
       "Name: col3, dtype: int64"
      ]
     },
     "execution_count": 58,
     "metadata": {},
     "output_type": "execute_result"
    }
   ],
   "source": [
    "# the loc method is short for \"location\", we can index dataframes like [a][b] or [a,b]\n",
    "dataframe.loc[:,\"col3\"] # this is python list slicing, the first \":\" gets all rows then \"col3\" fetches specific column"
   ]
  },
  {
   "cell_type": "code",
   "execution_count": null,
   "id": "20fccccd-feda-461b-801e-23b1be70abc4",
   "metadata": {},
   "outputs": [],
   "source": []
  },
  {
   "cell_type": "code",
   "execution_count": null,
   "id": "028bc0d7-e6e9-438d-bad4-33de79f4487f",
   "metadata": {},
   "outputs": [],
   "source": []
  },
  {
   "cell_type": "code",
   "execution_count": null,
   "id": "df7973ff-5d7e-4972-b9cf-aa9a233e5c13",
   "metadata": {},
   "outputs": [],
   "source": []
  },
  {
   "cell_type": "code",
   "execution_count": null,
   "id": "917f8c31-4d90-4ec1-bce6-25b0b782da00",
   "metadata": {},
   "outputs": [],
   "source": []
  },
  {
   "cell_type": "code",
   "execution_count": null,
   "id": "7e9608e3-a648-44ae-b75c-f31ff299ea87",
   "metadata": {},
   "outputs": [],
   "source": []
  },
  {
   "cell_type": "code",
   "execution_count": null,
   "id": "5a230cdc-fc15-4675-b212-d48924f23b74",
   "metadata": {},
   "outputs": [],
   "source": []
  },
  {
   "cell_type": "code",
   "execution_count": null,
   "id": "af18c4bc-bee2-43d1-b68e-303da15ca4b1",
   "metadata": {},
   "outputs": [],
   "source": []
  },
  {
   "cell_type": "code",
   "execution_count": null,
   "id": "ae00a952-8593-4558-80ae-45ec0004a672",
   "metadata": {},
   "outputs": [],
   "source": []
  },
  {
   "cell_type": "code",
   "execution_count": null,
   "id": "0f271cae-4bb5-431c-974c-c79aa80aa469",
   "metadata": {},
   "outputs": [],
   "source": []
  },
  {
   "cell_type": "code",
   "execution_count": null,
   "id": "b148ca5f-85dd-44d3-a08a-35a22d677b47",
   "metadata": {},
   "outputs": [],
   "source": []
  },
  {
   "cell_type": "code",
   "execution_count": null,
   "id": "49c48614-a835-45c7-835d-b90d961126f2",
   "metadata": {},
   "outputs": [],
   "source": []
  },
  {
   "cell_type": "code",
   "execution_count": null,
   "id": "59f26501-78ac-4a2a-9aa6-5b70d52be696",
   "metadata": {},
   "outputs": [],
   "source": []
  },
  {
   "cell_type": "code",
   "execution_count": null,
   "id": "80456d9e-3cef-4e60-ac66-1bd5af6908ed",
   "metadata": {},
   "outputs": [],
   "source": []
  },
  {
   "cell_type": "code",
   "execution_count": null,
   "id": "dd1d9d1c-52a0-4d65-bd0a-18a045816baf",
   "metadata": {},
   "outputs": [],
   "source": []
  },
  {
   "cell_type": "code",
   "execution_count": null,
   "id": "8fd06236-3943-4424-af23-29fccf469b6d",
   "metadata": {},
   "outputs": [],
   "source": []
  },
  {
   "cell_type": "code",
   "execution_count": null,
   "id": "d03c2573-ff99-462c-b1f3-fe121052940e",
   "metadata": {},
   "outputs": [],
   "source": []
  },
  {
   "cell_type": "code",
   "execution_count": null,
   "id": "2c9ded09-6d2d-49ff-8446-9664b50a9378",
   "metadata": {},
   "outputs": [],
   "source": []
  },
  {
   "cell_type": "code",
   "execution_count": null,
   "id": "a5496996-8298-4865-a042-2f652da13c28",
   "metadata": {},
   "outputs": [],
   "source": []
  },
  {
   "cell_type": "code",
   "execution_count": null,
   "id": "d218c265-63fe-47de-b429-a23877572408",
   "metadata": {},
   "outputs": [],
   "source": []
  },
  {
   "cell_type": "code",
   "execution_count": null,
   "id": "e8169180-97e7-42a1-955d-ea056b4d130d",
   "metadata": {},
   "outputs": [],
   "source": []
  },
  {
   "cell_type": "code",
   "execution_count": null,
   "id": "e7d3ea12-44b6-4cf2-925a-f2342ea81406",
   "metadata": {},
   "outputs": [],
   "source": []
  },
  {
   "cell_type": "code",
   "execution_count": null,
   "id": "b8d2fd9d-cfcf-4ab3-90e8-6bd12c2ae962",
   "metadata": {},
   "outputs": [],
   "source": []
  },
  {
   "cell_type": "code",
   "execution_count": null,
   "id": "44bbbf97-2bb7-4fdd-aa85-ae247320eb05",
   "metadata": {},
   "outputs": [],
   "source": []
  },
  {
   "cell_type": "markdown",
   "id": "79f596c2-c541-451d-acd0-597521e0d820",
   "metadata": {},
   "source": []
  },
  {
   "cell_type": "code",
   "execution_count": null,
   "id": "ce122a7d-76e1-4e78-820b-aac7275a1718",
   "metadata": {},
   "outputs": [],
   "source": []
  },
  {
   "cell_type": "code",
   "execution_count": null,
   "id": "7d2b8381-5d49-44c1-8878-96f4e8519e82",
   "metadata": {},
   "outputs": [],
   "source": []
  },
  {
   "cell_type": "code",
   "execution_count": null,
   "id": "350b170a-f2a1-4f19-8935-5e2ca95a691b",
   "metadata": {},
   "outputs": [],
   "source": []
  },
  {
   "cell_type": "code",
   "execution_count": null,
   "id": "4c8d95c0-3c3d-470c-abd9-371500ddcd70",
   "metadata": {},
   "outputs": [],
   "source": []
  },
  {
   "cell_type": "code",
   "execution_count": null,
   "id": "b48273d7-60a3-4aa2-92bf-23981924bacb",
   "metadata": {},
   "outputs": [],
   "source": []
  },
  {
   "cell_type": "code",
   "execution_count": null,
   "id": "4f6aaa16-ce8e-4735-8431-f692d48c80da",
   "metadata": {},
   "outputs": [],
   "source": []
  },
  {
   "cell_type": "code",
   "execution_count": null,
   "id": "c1e6a44c-c246-407b-b39a-3fb76968fa4e",
   "metadata": {},
   "outputs": [],
   "source": []
  },
  {
   "cell_type": "code",
   "execution_count": null,
   "id": "45c59ec2-d9cf-4977-9405-97998764f5ee",
   "metadata": {},
   "outputs": [],
   "source": []
  },
  {
   "cell_type": "code",
   "execution_count": null,
   "id": "87b7d1f1-d0b2-4bcc-9b3f-5aaa996642b7",
   "metadata": {},
   "outputs": [],
   "source": []
  },
  {
   "cell_type": "code",
   "execution_count": null,
   "id": "8face319-090a-4d0c-b69d-1ea3d835fbfe",
   "metadata": {},
   "outputs": [],
   "source": []
  },
  {
   "cell_type": "code",
   "execution_count": null,
   "id": "bbfa6df5-c90b-4f29-ad80-fab5cc2becbf",
   "metadata": {},
   "outputs": [],
   "source": []
  },
  {
   "cell_type": "code",
   "execution_count": null,
   "id": "1706555e-1c16-4008-bd36-42ba8f65f6c4",
   "metadata": {},
   "outputs": [],
   "source": []
  },
  {
   "cell_type": "code",
   "execution_count": null,
   "id": "9bf572ef-abc9-4ad7-9257-ab118787264a",
   "metadata": {},
   "outputs": [],
   "source": []
  },
  {
   "cell_type": "code",
   "execution_count": null,
   "id": "7e357cb4-e139-480f-b6d0-aa2d7b78a99a",
   "metadata": {},
   "outputs": [],
   "source": []
  },
  {
   "cell_type": "code",
   "execution_count": null,
   "id": "dc17a7af-a6c3-4b43-98d4-e0114c9187e9",
   "metadata": {},
   "outputs": [],
   "source": []
  },
  {
   "cell_type": "code",
   "execution_count": null,
   "id": "a21e4328-0e4f-4846-a03d-a35764faafd7",
   "metadata": {},
   "outputs": [],
   "source": []
  },
  {
   "cell_type": "code",
   "execution_count": null,
   "id": "7354b5d5-db11-4609-8645-3d8568651c02",
   "metadata": {},
   "outputs": [],
   "source": []
  },
  {
   "cell_type": "code",
   "execution_count": null,
   "id": "5ccf4ff2-d1b8-452f-8b4f-9c5450387b17",
   "metadata": {},
   "outputs": [],
   "source": []
  },
  {
   "cell_type": "code",
   "execution_count": null,
   "id": "f7328608-4e0a-4edd-b4ae-2f83a2d0cd66",
   "metadata": {},
   "outputs": [],
   "source": []
  },
  {
   "cell_type": "code",
   "execution_count": null,
   "id": "1995aacc-efe3-49cf-9955-e0dd70d1c28c",
   "metadata": {},
   "outputs": [],
   "source": []
  },
  {
   "cell_type": "code",
   "execution_count": null,
   "id": "3d515c2c-65e0-40e4-995b-34f3278a8fd3",
   "metadata": {},
   "outputs": [],
   "source": []
  },
  {
   "cell_type": "code",
   "execution_count": null,
   "id": "89863ad2-3cbf-4d79-9f70-27591009ecd9",
   "metadata": {},
   "outputs": [],
   "source": []
  },
  {
   "cell_type": "code",
   "execution_count": null,
   "id": "6d8e0211-bac6-4b7b-aa03-4095d4f20715",
   "metadata": {},
   "outputs": [],
   "source": []
  },
  {
   "cell_type": "code",
   "execution_count": null,
   "id": "e09cc12d-1677-42c4-8a2d-9e233ed9037a",
   "metadata": {},
   "outputs": [],
   "source": []
  },
  {
   "cell_type": "code",
   "execution_count": null,
   "id": "bf25c8d3-7755-48a6-8a61-e3633e31f9c9",
   "metadata": {},
   "outputs": [],
   "source": []
  },
  {
   "cell_type": "code",
   "execution_count": null,
   "id": "c1736db7-4248-4d8e-8e2d-db2ebec62523",
   "metadata": {},
   "outputs": [],
   "source": []
  },
  {
   "cell_type": "code",
   "execution_count": null,
   "id": "c758545a-314b-46a9-b679-f031411c1e73",
   "metadata": {},
   "outputs": [],
   "source": []
  }
 ],
 "metadata": {
  "kernelspec": {
   "display_name": "Python Datsci",
   "language": "python",
   "name": "datsci"
  },
  "language_info": {
   "codemirror_mode": {
    "name": "ipython",
    "version": 3
   },
   "file_extension": ".py",
   "mimetype": "text/x-python",
   "name": "python",
   "nbconvert_exporter": "python",
   "pygments_lexer": "ipython3",
   "version": "3.13.3"
  }
 },
 "nbformat": 4,
 "nbformat_minor": 5
}
