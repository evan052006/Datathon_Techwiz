{
 "cells": [
  {
   "cell_type": "markdown",
   "id": "6eef5d4f-b1fd-4153-b18b-d09e0438df74",
   "metadata": {},
   "source": [
    "main source : https://pandas.pydata.org/docs/\n",
    "\n",
    "Pandas is a data science library, (note \"data science\" not actual AI as a whole). So it focuses mainly on boring and basic things.\n",
    "\n",
    "Main gimmick of pandas is storing everything into either **Series** or **Dataframes**"
   ]
  },
  {
   "cell_type": "code",
   "execution_count": 2,
   "id": "e8f63c9b-b755-47fc-873c-3a59d618cc03",
   "metadata": {},
   "outputs": [],
   "source": [
    "import pandas as pd # this imports the module (like a class) then shorthands it to pd, less pain on the wrist to type."
   ]
  },
  {
   "cell_type": "markdown",
   "id": "63ab8571-f4c5-4f14-9625-30497898bc1c",
   "metadata": {},
   "source": [
    "https://pandas.pydata.org/docs/reference/api/pandas.Series.html\n",
    "\n",
    "First we got Series, it sounds cool but is practically just an array"
   ]
  },
  {
   "cell_type": "code",
   "execution_count": 6,
   "id": "4df302a9-890e-496b-943d-a0b81962065a",
   "metadata": {},
   "outputs": [
    {
     "data": {
      "text/plain": [
       "0      1\n",
       "1      2\n",
       "2     yo\n",
       "3    4.6\n",
       "dtype: object"
      ]
     },
     "execution_count": 6,
     "metadata": {},
     "output_type": "execute_result"
    }
   ],
   "source": [
    "pd.Series([1, 2, \"yo\", 4.6]) # notice the dtype (data type) is an object, this is because we mixed types"
   ]
  },
  {
   "cell_type": "code",
   "execution_count": 8,
   "id": "c305809f-083f-46c1-bfda-1e1b60d0f7f6",
   "metadata": {},
   "outputs": [
    {
     "data": {
      "text/plain": [
       "0    1\n",
       "1    2\n",
       "2    3\n",
       "3    4\n",
       "dtype: int64"
      ]
     },
     "execution_count": 8,
     "metadata": {},
     "output_type": "execute_result"
    }
   ],
   "source": [
    "pd.Series([1, 2, 3, 4]) # pandas autoinfer what datatype we need"
   ]
  },
  {
   "cell_type": "markdown",
   "id": "7de3e407-af49-4f93-8061-f3a18db1f68a",
   "metadata": {},
   "source": [
    "changing __our_data_type__ to int would break, because you cant represent strings as integers (unless you get really deep into low level, which we dont need / care)"
   ]
  },
  {
   "cell_type": "code",
   "execution_count": 14,
   "id": "777abb56-a2cd-4947-a47c-5d69e05e6a15",
   "metadata": {},
   "outputs": [
    {
     "data": {
      "text/plain": [
       "0    i am illegal\n",
       "dtype: object"
      ]
     },
     "execution_count": 14,
     "metadata": {},
     "output_type": "execute_result"
    }
   ],
   "source": [
    "our_data_type = str\n",
    "pd.Series([\"i am illegal\"], dtype=our_data_type) # pandas autoinfer what datatype we need"
   ]
  },
  {
   "cell_type": "markdown",
   "id": "59996906-c7ca-419c-8be7-6ac2bba9da9a",
   "metadata": {},
   "source": [
    "Series can be input any iterables, so python tuples, lists, and dictionaries work 0 problems (unordered sets dont work tho).\n",
    "\n",
    "This fact is important, later on we can input numpy arrays inside"
   ]
  },
  {
   "cell_type": "code",
   "execution_count": 38,
   "id": "e4df2a86-76ec-4b23-b7d6-e1cadcfc5b9f",
   "metadata": {},
   "outputs": [
    {
     "name": "stdout",
     "output_type": "stream",
     "text": [
      "Series from Lists\n",
      "4    1\n",
      "3    2\n",
      "2    3\n",
      "1    4\n",
      "dtype: int64\n",
      "\n",
      "Series from Tuple\n",
      "0    1\n",
      "1    2\n",
      "2    3\n",
      "3    4\n",
      "dtype: int64\n",
      "\n",
      "Series from Dictionary, using keys as index\n",
      "1    1\n",
      "3    2\n",
      "2    3\n",
      "4    4\n",
      "dtype: int64\n",
      "\n",
      "Series from Dictionary, ignoring keys but using index parameter\n",
      "4    4\n",
      "3    2\n",
      "2    3\n",
      "1    1\n",
      "dtype: int64\n",
      "\n"
     ]
    }
   ],
   "source": [
    "print(\"Series from Lists\")\n",
    "print(pd.Series([1, 2, 3, 4], index=(4, 3, 2, 1)))\n",
    "print()\n",
    "print(\"Series from Tuple\")\n",
    "print(pd.Series((1, 2, 3, 4)))\n",
    "print()\n",
    "print(\"Series from Dictionary, using keys as index\")\n",
    "print(pd.Series({1:1, 3:2, 2:3, 4:4})) # when we dont provide index to the Series constructor, they auto use the dictionary keys\n",
    "print()\n",
    "print(\"Series from Dictionary, ignoring keys but using index parameter\")\n",
    "print(pd.Series({1:1, 3:2, 2:3, 4:4}, index=(4, 3, 2, 1)))\n",
    "print()"
   ]
  },
  {
   "cell_type": "code",
   "execution_count": null,
   "id": "a5496996-8298-4865-a042-2f652da13c28",
   "metadata": {},
   "outputs": [],
   "source": []
  },
  {
   "cell_type": "code",
   "execution_count": null,
   "id": "d218c265-63fe-47de-b429-a23877572408",
   "metadata": {},
   "outputs": [],
   "source": []
  },
  {
   "cell_type": "code",
   "execution_count": null,
   "id": "e8169180-97e7-42a1-955d-ea056b4d130d",
   "metadata": {},
   "outputs": [],
   "source": []
  },
  {
   "cell_type": "code",
   "execution_count": null,
   "id": "e7d3ea12-44b6-4cf2-925a-f2342ea81406",
   "metadata": {},
   "outputs": [],
   "source": []
  },
  {
   "cell_type": "code",
   "execution_count": null,
   "id": "b8d2fd9d-cfcf-4ab3-90e8-6bd12c2ae962",
   "metadata": {},
   "outputs": [],
   "source": []
  },
  {
   "cell_type": "code",
   "execution_count": null,
   "id": "44bbbf97-2bb7-4fdd-aa85-ae247320eb05",
   "metadata": {},
   "outputs": [],
   "source": []
  },
  {
   "cell_type": "markdown",
   "id": "79f596c2-c541-451d-acd0-597521e0d820",
   "metadata": {},
   "source": []
  },
  {
   "cell_type": "code",
   "execution_count": null,
   "id": "ce122a7d-76e1-4e78-820b-aac7275a1718",
   "metadata": {},
   "outputs": [],
   "source": []
  },
  {
   "cell_type": "code",
   "execution_count": null,
   "id": "7d2b8381-5d49-44c1-8878-96f4e8519e82",
   "metadata": {},
   "outputs": [],
   "source": []
  },
  {
   "cell_type": "code",
   "execution_count": null,
   "id": "350b170a-f2a1-4f19-8935-5e2ca95a691b",
   "metadata": {},
   "outputs": [],
   "source": []
  },
  {
   "cell_type": "code",
   "execution_count": null,
   "id": "4c8d95c0-3c3d-470c-abd9-371500ddcd70",
   "metadata": {},
   "outputs": [],
   "source": []
  },
  {
   "cell_type": "code",
   "execution_count": null,
   "id": "b48273d7-60a3-4aa2-92bf-23981924bacb",
   "metadata": {},
   "outputs": [],
   "source": []
  },
  {
   "cell_type": "code",
   "execution_count": null,
   "id": "4f6aaa16-ce8e-4735-8431-f692d48c80da",
   "metadata": {},
   "outputs": [],
   "source": []
  },
  {
   "cell_type": "code",
   "execution_count": null,
   "id": "c1e6a44c-c246-407b-b39a-3fb76968fa4e",
   "metadata": {},
   "outputs": [],
   "source": []
  },
  {
   "cell_type": "code",
   "execution_count": null,
   "id": "45c59ec2-d9cf-4977-9405-97998764f5ee",
   "metadata": {},
   "outputs": [],
   "source": []
  },
  {
   "cell_type": "code",
   "execution_count": null,
   "id": "87b7d1f1-d0b2-4bcc-9b3f-5aaa996642b7",
   "metadata": {},
   "outputs": [],
   "source": []
  },
  {
   "cell_type": "code",
   "execution_count": null,
   "id": "8face319-090a-4d0c-b69d-1ea3d835fbfe",
   "metadata": {},
   "outputs": [],
   "source": []
  },
  {
   "cell_type": "code",
   "execution_count": null,
   "id": "bbfa6df5-c90b-4f29-ad80-fab5cc2becbf",
   "metadata": {},
   "outputs": [],
   "source": []
  },
  {
   "cell_type": "code",
   "execution_count": null,
   "id": "1706555e-1c16-4008-bd36-42ba8f65f6c4",
   "metadata": {},
   "outputs": [],
   "source": []
  },
  {
   "cell_type": "code",
   "execution_count": null,
   "id": "9bf572ef-abc9-4ad7-9257-ab118787264a",
   "metadata": {},
   "outputs": [],
   "source": []
  },
  {
   "cell_type": "code",
   "execution_count": null,
   "id": "7e357cb4-e139-480f-b6d0-aa2d7b78a99a",
   "metadata": {},
   "outputs": [],
   "source": []
  },
  {
   "cell_type": "code",
   "execution_count": null,
   "id": "dc17a7af-a6c3-4b43-98d4-e0114c9187e9",
   "metadata": {},
   "outputs": [],
   "source": []
  },
  {
   "cell_type": "code",
   "execution_count": null,
   "id": "a21e4328-0e4f-4846-a03d-a35764faafd7",
   "metadata": {},
   "outputs": [],
   "source": []
  },
  {
   "cell_type": "code",
   "execution_count": null,
   "id": "7354b5d5-db11-4609-8645-3d8568651c02",
   "metadata": {},
   "outputs": [],
   "source": []
  },
  {
   "cell_type": "code",
   "execution_count": null,
   "id": "5ccf4ff2-d1b8-452f-8b4f-9c5450387b17",
   "metadata": {},
   "outputs": [],
   "source": []
  },
  {
   "cell_type": "code",
   "execution_count": null,
   "id": "f7328608-4e0a-4edd-b4ae-2f83a2d0cd66",
   "metadata": {},
   "outputs": [],
   "source": []
  },
  {
   "cell_type": "code",
   "execution_count": null,
   "id": "1995aacc-efe3-49cf-9955-e0dd70d1c28c",
   "metadata": {},
   "outputs": [],
   "source": []
  },
  {
   "cell_type": "code",
   "execution_count": null,
   "id": "3d515c2c-65e0-40e4-995b-34f3278a8fd3",
   "metadata": {},
   "outputs": [],
   "source": []
  },
  {
   "cell_type": "code",
   "execution_count": null,
   "id": "89863ad2-3cbf-4d79-9f70-27591009ecd9",
   "metadata": {},
   "outputs": [],
   "source": []
  },
  {
   "cell_type": "code",
   "execution_count": null,
   "id": "6d8e0211-bac6-4b7b-aa03-4095d4f20715",
   "metadata": {},
   "outputs": [],
   "source": []
  },
  {
   "cell_type": "code",
   "execution_count": null,
   "id": "e09cc12d-1677-42c4-8a2d-9e233ed9037a",
   "metadata": {},
   "outputs": [],
   "source": []
  },
  {
   "cell_type": "code",
   "execution_count": null,
   "id": "bf25c8d3-7755-48a6-8a61-e3633e31f9c9",
   "metadata": {},
   "outputs": [],
   "source": []
  },
  {
   "cell_type": "code",
   "execution_count": null,
   "id": "c1736db7-4248-4d8e-8e2d-db2ebec62523",
   "metadata": {},
   "outputs": [],
   "source": []
  },
  {
   "cell_type": "code",
   "execution_count": null,
   "id": "c758545a-314b-46a9-b679-f031411c1e73",
   "metadata": {},
   "outputs": [],
   "source": []
  }
 ],
 "metadata": {
  "kernelspec": {
   "display_name": "Python Datsci",
   "language": "python",
   "name": "datsci"
  },
  "language_info": {
   "codemirror_mode": {
    "name": "ipython",
    "version": 3
   },
   "file_extension": ".py",
   "mimetype": "text/x-python",
   "name": "python",
   "nbconvert_exporter": "python",
   "pygments_lexer": "ipython3",
   "version": "3.13.3"
  }
 },
 "nbformat": 4,
 "nbformat_minor": 5
}
